{
 "cells": [
  {
   "cell_type": "code",
   "execution_count": 1,
   "metadata": {},
   "outputs": [],
   "source": [
    "import geopandas as gpd\n",
    "import shapely \n",
    "import cartopy.crs as ccrs\n",
    "import cartopy.feature as feature\n",
    "from cartopy.mpl.gridliner import LATITUDE_FORMATTER, LONGITUDE_FORMATTER\n",
    "import matplotlib.pyplot as plt\n",
    "import matplotlib\n",
    "import networkx as nx\n",
    "import folium\n",
    "import rtree\n",
    "from tqdm import tqdm\n",
    "from multiprocessing import Pool\n",
    "processpool = Pool(processes=7)\n",
    "from IPython.display import HTML\n",
    "def iframe(url):\n",
    "    iframe = '<iframe src=' + url + ' width=700 height=350></iframe>'\n",
    "    return(HTML(iframe))\n",
    "%matplotlib inline\n",
    "%config InlineBackend.figure_format = 'retina'\n",
    "%config Completer.use_jedi = False"
   ]
  },
  {
   "cell_type": "code",
   "execution_count": 2,
   "metadata": {},
   "outputs": [
    {
     "ename": "OSError",
     "evalue": "no such file or directory: '/Users/tony/Downloads/tl_2016_us_county/tl_2016_us_county.shp'",
     "output_type": "error",
     "traceback": [
      "\u001b[0;31m---------------------------------------------------------------------------\u001b[0m",
      "\u001b[0;31mOSError\u001b[0m                                   Traceback (most recent call last)",
      "\u001b[0;32m<ipython-input-2-b4861e2d5ab1>\u001b[0m in \u001b[0;36m<module>\u001b[0;34m()\u001b[0m\n\u001b[1;32m      1\u001b[0m \u001b[0mparks\u001b[0m \u001b[0;34m=\u001b[0m \u001b[0mgpd\u001b[0m\u001b[0;34m.\u001b[0m\u001b[0mGeoDataFrame\u001b[0m\u001b[0;34m.\u001b[0m\u001b[0mfrom_file\u001b[0m\u001b[0;34m(\u001b[0m\u001b[0;34m\"nps_boundary_shp/nps_boundary.shp\"\u001b[0m\u001b[0;34m)\u001b[0m\u001b[0;34m.\u001b[0m\u001b[0mto_crs\u001b[0m\u001b[0;34m(\u001b[0m\u001b[0;34m{\u001b[0m\u001b[0;34m'init'\u001b[0m\u001b[0;34m:\u001b[0m \u001b[0;34m'epsg:3857'\u001b[0m\u001b[0;34m}\u001b[0m\u001b[0;34m)\u001b[0m\u001b[0;34m\u001b[0m\u001b[0m\n\u001b[1;32m      2\u001b[0m \u001b[0mroads\u001b[0m \u001b[0;34m=\u001b[0m \u001b[0mgpd\u001b[0m\u001b[0;34m.\u001b[0m\u001b[0mGeoDataFrame\u001b[0m\u001b[0;34m.\u001b[0m\u001b[0mfrom_file\u001b[0m\u001b[0;34m(\u001b[0m\u001b[0;34m\"tl_2016_us_primaryroads/tl_2016_us_primaryroads.shp\"\u001b[0m\u001b[0;34m)\u001b[0m\u001b[0;34m.\u001b[0m\u001b[0mto_crs\u001b[0m\u001b[0;34m(\u001b[0m\u001b[0;34m{\u001b[0m\u001b[0;34m'init'\u001b[0m\u001b[0;34m:\u001b[0m \u001b[0;34m'epsg:3857'\u001b[0m\u001b[0;34m}\u001b[0m\u001b[0;34m)\u001b[0m\u001b[0;34m\u001b[0m\u001b[0m\n\u001b[0;32m----> 3\u001b[0;31m \u001b[0mcntys\u001b[0m \u001b[0;34m=\u001b[0m \u001b[0mgpd\u001b[0m\u001b[0;34m.\u001b[0m\u001b[0mGeoDataFrame\u001b[0m\u001b[0;34m.\u001b[0m\u001b[0mfrom_file\u001b[0m\u001b[0;34m(\u001b[0m\u001b[0;34m\"/Users/tony/Downloads/tl_2016_us_county/tl_2016_us_county.shp\"\u001b[0m\u001b[0;34m)\u001b[0m\u001b[0;34m.\u001b[0m\u001b[0mto_crs\u001b[0m\u001b[0;34m(\u001b[0m\u001b[0;34m{\u001b[0m\u001b[0;34m'init'\u001b[0m\u001b[0;34m:\u001b[0m \u001b[0;34m'epsg:3857'\u001b[0m\u001b[0;34m}\u001b[0m\u001b[0;34m)\u001b[0m\u001b[0;34m\u001b[0m\u001b[0m\n\u001b[0m\u001b[1;32m      4\u001b[0m \u001b[0mwilde\u001b[0m \u001b[0;34m=\u001b[0m \u001b[0mgpd\u001b[0m\u001b[0;34m.\u001b[0m\u001b[0mGeoDataFrame\u001b[0m\u001b[0;34m.\u001b[0m\u001b[0mfrom_file\u001b[0m\u001b[0;34m(\u001b[0m\u001b[0;34m\"S_USA.Wilderness/S_USA.Wilderness.shp\"\u001b[0m\u001b[0;34m)\u001b[0m\u001b[0;34m.\u001b[0m\u001b[0mto_crs\u001b[0m\u001b[0;34m(\u001b[0m\u001b[0;34m{\u001b[0m\u001b[0;34m'init'\u001b[0m\u001b[0;34m:\u001b[0m \u001b[0;34m'epsg:3857'\u001b[0m\u001b[0;34m}\u001b[0m\u001b[0;34m)\u001b[0m\u001b[0;34m\u001b[0m\u001b[0m\n\u001b[1;32m      5\u001b[0m \u001b[0mfores\u001b[0m \u001b[0;34m=\u001b[0m \u001b[0mgpd\u001b[0m\u001b[0;34m.\u001b[0m\u001b[0mGeoDataFrame\u001b[0m\u001b[0;34m.\u001b[0m\u001b[0mfrom_file\u001b[0m\u001b[0;34m(\u001b[0m\u001b[0;34m\"S_USA.AdministrativeForest/S_USA.AdministrativeForest.dbf\"\u001b[0m\u001b[0;34m)\u001b[0m\u001b[0;34m.\u001b[0m\u001b[0mto_crs\u001b[0m\u001b[0;34m(\u001b[0m\u001b[0;34m{\u001b[0m\u001b[0;34m'init'\u001b[0m\u001b[0;34m:\u001b[0m \u001b[0;34m'epsg:3857'\u001b[0m\u001b[0;34m}\u001b[0m\u001b[0;34m)\u001b[0m\u001b[0;34m\u001b[0m\u001b[0m\n",
      "\u001b[0;32m~/miniconda3/lib/python3.5/site-packages/geopandas/geodataframe.py\u001b[0m in \u001b[0;36mfrom_file\u001b[0;34m(cls, filename, **kwargs)\u001b[0m\n\u001b[1;32m    173\u001b[0m \u001b[0;34m\u001b[0m\u001b[0m\n\u001b[1;32m    174\u001b[0m         \"\"\"\n\u001b[0;32m--> 175\u001b[0;31m         \u001b[0;32mreturn\u001b[0m \u001b[0mgeopandas\u001b[0m\u001b[0;34m.\u001b[0m\u001b[0mio\u001b[0m\u001b[0;34m.\u001b[0m\u001b[0mfile\u001b[0m\u001b[0;34m.\u001b[0m\u001b[0mread_file\u001b[0m\u001b[0;34m(\u001b[0m\u001b[0mfilename\u001b[0m\u001b[0;34m,\u001b[0m \u001b[0;34m**\u001b[0m\u001b[0mkwargs\u001b[0m\u001b[0;34m)\u001b[0m\u001b[0;34m\u001b[0m\u001b[0m\n\u001b[0m\u001b[1;32m    176\u001b[0m \u001b[0;34m\u001b[0m\u001b[0m\n\u001b[1;32m    177\u001b[0m     \u001b[0;34m@\u001b[0m\u001b[0mclassmethod\u001b[0m\u001b[0;34m\u001b[0m\u001b[0m\n",
      "\u001b[0;32m~/miniconda3/lib/python3.5/site-packages/geopandas/io/file.py\u001b[0m in \u001b[0;36mread_file\u001b[0;34m(filename, **kwargs)\u001b[0m\n\u001b[1;32m     19\u001b[0m     \"\"\"\n\u001b[1;32m     20\u001b[0m     \u001b[0mbbox\u001b[0m \u001b[0;34m=\u001b[0m \u001b[0mkwargs\u001b[0m\u001b[0;34m.\u001b[0m\u001b[0mpop\u001b[0m\u001b[0;34m(\u001b[0m\u001b[0;34m'bbox'\u001b[0m\u001b[0;34m,\u001b[0m \u001b[0;32mNone\u001b[0m\u001b[0;34m)\u001b[0m\u001b[0;34m\u001b[0m\u001b[0m\n\u001b[0;32m---> 21\u001b[0;31m     \u001b[0;32mwith\u001b[0m \u001b[0mfiona\u001b[0m\u001b[0;34m.\u001b[0m\u001b[0mopen\u001b[0m\u001b[0;34m(\u001b[0m\u001b[0mfilename\u001b[0m\u001b[0;34m,\u001b[0m \u001b[0;34m**\u001b[0m\u001b[0mkwargs\u001b[0m\u001b[0;34m)\u001b[0m \u001b[0;32mas\u001b[0m \u001b[0mf\u001b[0m\u001b[0;34m:\u001b[0m\u001b[0;34m\u001b[0m\u001b[0m\n\u001b[0m\u001b[1;32m     22\u001b[0m         \u001b[0mcrs\u001b[0m \u001b[0;34m=\u001b[0m \u001b[0mf\u001b[0m\u001b[0;34m.\u001b[0m\u001b[0mcrs\u001b[0m\u001b[0;34m\u001b[0m\u001b[0m\n\u001b[1;32m     23\u001b[0m         \u001b[0;32mif\u001b[0m \u001b[0mbbox\u001b[0m \u001b[0;32mis\u001b[0m \u001b[0;32mnot\u001b[0m \u001b[0;32mNone\u001b[0m\u001b[0;34m:\u001b[0m\u001b[0;34m\u001b[0m\u001b[0m\n",
      "\u001b[0;32m~/miniconda3/lib/python3.5/site-packages/fiona/__init__.py\u001b[0m in \u001b[0;36mopen\u001b[0;34m(path, mode, driver, schema, crs, encoding, layer, vfs, enabled_drivers, crs_wkt)\u001b[0m\n\u001b[1;32m    160\u001b[0m                 \u001b[0;32mraise\u001b[0m \u001b[0mIOError\u001b[0m\u001b[0;34m(\u001b[0m\u001b[0;34m\"no such archive file: %r\"\u001b[0m \u001b[0;34m%\u001b[0m \u001b[0marchive\u001b[0m\u001b[0;34m)\u001b[0m\u001b[0;34m\u001b[0m\u001b[0m\n\u001b[1;32m    161\u001b[0m         \u001b[0;32melif\u001b[0m \u001b[0mpath\u001b[0m \u001b[0;34m!=\u001b[0m \u001b[0;34m'-'\u001b[0m \u001b[0;32mand\u001b[0m \u001b[0;32mnot\u001b[0m \u001b[0mos\u001b[0m\u001b[0;34m.\u001b[0m\u001b[0mpath\u001b[0m\u001b[0;34m.\u001b[0m\u001b[0mexists\u001b[0m\u001b[0;34m(\u001b[0m\u001b[0mpath\u001b[0m\u001b[0;34m)\u001b[0m\u001b[0;34m:\u001b[0m\u001b[0;34m\u001b[0m\u001b[0m\n\u001b[0;32m--> 162\u001b[0;31m             \u001b[0;32mraise\u001b[0m \u001b[0mIOError\u001b[0m\u001b[0;34m(\u001b[0m\u001b[0;34m\"no such file or directory: %r\"\u001b[0m \u001b[0;34m%\u001b[0m \u001b[0mpath\u001b[0m\u001b[0;34m)\u001b[0m\u001b[0;34m\u001b[0m\u001b[0m\n\u001b[0m\u001b[1;32m    163\u001b[0m         c = Collection(path, mode, driver=driver, encoding=encoding,\n\u001b[1;32m    164\u001b[0m                        \u001b[0mlayer\u001b[0m\u001b[0;34m=\u001b[0m\u001b[0mlayer\u001b[0m\u001b[0;34m,\u001b[0m \u001b[0mvsi\u001b[0m\u001b[0;34m=\u001b[0m\u001b[0mvsi\u001b[0m\u001b[0;34m,\u001b[0m \u001b[0marchive\u001b[0m\u001b[0;34m=\u001b[0m\u001b[0marchive\u001b[0m\u001b[0;34m,\u001b[0m\u001b[0;34m\u001b[0m\u001b[0m\n",
      "\u001b[0;31mOSError\u001b[0m: no such file or directory: '/Users/tony/Downloads/tl_2016_us_county/tl_2016_us_county.shp'"
     ]
    }
   ],
   "source": [
    "parks = gpd.GeoDataFrame.from_file(\"nps_boundary_shp/nps_boundary.shp\").to_crs({'init': 'epsg:3857'})\n",
    "roads = gpd.GeoDataFrame.from_file(\"tl_2016_us_primaryroads/tl_2016_us_primaryroads.shp\").to_crs({'init': 'epsg:3857'})\n",
    "cntys = gpd.GeoDataFrame.from_file(\"/Users/tony/Downloads/tl_2016_us_county/tl_2016_us_county.shp\").to_crs({'init': 'epsg:3857'})\n",
    "wilde = gpd.GeoDataFrame.from_file(\"S_USA.Wilderness/S_USA.Wilderness.shp\").to_crs({'init': 'epsg:3857'})\n",
    "fores = gpd.GeoDataFrame.from_file(\"S_USA.AdministrativeForest/S_USA.AdministrativeForest.dbf\").to_crs({'init': 'epsg:3857'})\n"
   ]
  },
  {
   "cell_type": "code",
   "execution_count": 3,
   "metadata": {},
   "outputs": [
    {
     "name": "stdout",
     "output_type": "stream",
     "text": [
      "447\n"
     ]
    },
    {
     "data": {
      "text/html": [
       "<div>\n",
       "<table border=\"1\" class=\"dataframe\">\n",
       "  <thead>\n",
       "    <tr style=\"text-align: right;\">\n",
       "      <th></th>\n",
       "      <th>AREAID</th>\n",
       "      <th>BOUNDARYST</th>\n",
       "      <th>GIS_ACRES</th>\n",
       "      <th>SHAPE_AREA</th>\n",
       "      <th>SHAPE_LEN</th>\n",
       "      <th>WID</th>\n",
       "      <th>WILDERNESS</th>\n",
       "      <th>WILDERNE_1</th>\n",
       "      <th>geometry</th>\n",
       "    </tr>\n",
       "  </thead>\n",
       "  <tbody>\n",
       "    <tr>\n",
       "      <th>0</th>\n",
       "      <td>255</td>\n",
       "      <td>Provisional, Subject to Change</td>\n",
       "      <td>16008.938704</td>\n",
       "      <td>0.006352</td>\n",
       "      <td>0.569281</td>\n",
       "      <td>107</td>\n",
       "      <td>10661010343</td>\n",
       "      <td>Cedar Bench Wilderness</td>\n",
       "      <td>POLYGON ((-12453602.76816968 4091916.015028701...</td>\n",
       "    </tr>\n",
       "    <tr>\n",
       "      <th>1</th>\n",
       "      <td>124</td>\n",
       "      <td>Provisional, Subject to Change</td>\n",
       "      <td>46052.580517</td>\n",
       "      <td>0.018707</td>\n",
       "      <td>2.170713</td>\n",
       "      <td>109</td>\n",
       "      <td>10546010343</td>\n",
       "      <td>Chama River Canyon Wilderness</td>\n",
       "      <td>(POLYGON ((-11883362.66978141 4354843.99120224...</td>\n",
       "    </tr>\n",
       "    <tr>\n",
       "      <th>2</th>\n",
       "      <td>274</td>\n",
       "      <td>Provisional, Subject to Change</td>\n",
       "      <td>8061.539060</td>\n",
       "      <td>0.003464</td>\n",
       "      <td>0.376443</td>\n",
       "      <td>111</td>\n",
       "      <td>10676010343</td>\n",
       "      <td>Chanchelulla Wilderness</td>\n",
       "      <td>POLYGON ((-13688895.94041893 4933527.994584521...</td>\n",
       "    </tr>\n",
       "    <tr>\n",
       "      <th>3</th>\n",
       "      <td>182</td>\n",
       "      <td>Final</td>\n",
       "      <td>12537.514736</td>\n",
       "      <td>0.005278</td>\n",
       "      <td>0.759203</td>\n",
       "      <td>112</td>\n",
       "      <td>10586010343</td>\n",
       "      <td>Charles C. Deam Wilderness</td>\n",
       "      <td>(POLYGON ((-9618856.641707031 4725799.08368899...</td>\n",
       "    </tr>\n",
       "    <tr>\n",
       "      <th>4</th>\n",
       "      <td>184</td>\n",
       "      <td>Final</td>\n",
       "      <td>7399.780494</td>\n",
       "      <td>0.002903</td>\n",
       "      <td>0.349242</td>\n",
       "      <td>115</td>\n",
       "      <td>10588010343</td>\n",
       "      <td>Cheaha Wilderness</td>\n",
       "      <td>POLYGON ((-9550964.422707578 3955843.284075238...</td>\n",
       "    </tr>\n",
       "  </tbody>\n",
       "</table>\n",
       "</div>"
      ],
      "text/plain": [
       "  AREAID                      BOUNDARYST     GIS_ACRES  SHAPE_AREA  SHAPE_LEN  \\\n",
       "0    255  Provisional, Subject to Change  16008.938704    0.006352   0.569281   \n",
       "1    124  Provisional, Subject to Change  46052.580517    0.018707   2.170713   \n",
       "2    274  Provisional, Subject to Change   8061.539060    0.003464   0.376443   \n",
       "3    182                           Final  12537.514736    0.005278   0.759203   \n",
       "4    184                           Final   7399.780494    0.002903   0.349242   \n",
       "\n",
       "   WID   WILDERNESS                     WILDERNE_1  \\\n",
       "0  107  10661010343         Cedar Bench Wilderness   \n",
       "1  109  10546010343  Chama River Canyon Wilderness   \n",
       "2  111  10676010343        Chanchelulla Wilderness   \n",
       "3  112  10586010343     Charles C. Deam Wilderness   \n",
       "4  115  10588010343              Cheaha Wilderness   \n",
       "\n",
       "                                            geometry  \n",
       "0  POLYGON ((-12453602.76816968 4091916.015028701...  \n",
       "1  (POLYGON ((-11883362.66978141 4354843.99120224...  \n",
       "2  POLYGON ((-13688895.94041893 4933527.994584521...  \n",
       "3  (POLYGON ((-9618856.641707031 4725799.08368899...  \n",
       "4  POLYGON ((-9550964.422707578 3955843.284075238...  "
      ]
     },
     "execution_count": 3,
     "metadata": {},
     "output_type": "execute_result"
    }
   ],
   "source": [
    "print(len(wilde))\n",
    "wilde.head()\n"
   ]
  },
  {
   "cell_type": "code",
   "execution_count": 4,
   "metadata": {},
   "outputs": [
    {
     "name": "stdout",
     "output_type": "stream",
     "text": [
      "112\n"
     ]
    },
    {
     "data": {
      "text/html": [
       "<div>\n",
       "<table border=\"1\" class=\"dataframe\">\n",
       "  <thead>\n",
       "    <tr style=\"text-align: right;\">\n",
       "      <th></th>\n",
       "      <th>ADMINFORES</th>\n",
       "      <th>FORESTNAME</th>\n",
       "      <th>FORESTNUMB</th>\n",
       "      <th>FORESTORGC</th>\n",
       "      <th>GIS_ACRES</th>\n",
       "      <th>REGION</th>\n",
       "      <th>SHAPE_AREA</th>\n",
       "      <th>SHAPE_LEN</th>\n",
       "      <th>geometry</th>\n",
       "    </tr>\n",
       "  </thead>\n",
       "  <tbody>\n",
       "    <tr>\n",
       "      <th>0</th>\n",
       "      <td>99011400010343</td>\n",
       "      <td>Kootenai National Forest</td>\n",
       "      <td>14</td>\n",
       "      <td>0114</td>\n",
       "      <td>2624578.394</td>\n",
       "      <td>01</td>\n",
       "      <td>1.290843</td>\n",
       "      <td>21.874705</td>\n",
       "      <td>(POLYGON ((-12829337.62425734 6142169.69229397...</td>\n",
       "    </tr>\n",
       "    <tr>\n",
       "      <th>1</th>\n",
       "      <td>99030400010343</td>\n",
       "      <td>Coconino National Forest</td>\n",
       "      <td>04</td>\n",
       "      <td>0304</td>\n",
       "      <td>2000935.403</td>\n",
       "      <td>03</td>\n",
       "      <td>0.798729</td>\n",
       "      <td>7.081378</td>\n",
       "      <td>POLYGON ((-12441690.4004418 4243713.646472579,...</td>\n",
       "    </tr>\n",
       "    <tr>\n",
       "      <th>2</th>\n",
       "      <td>99020600010343</td>\n",
       "      <td>Medicine Bow-Routt National Forest</td>\n",
       "      <td>06</td>\n",
       "      <td>0206</td>\n",
       "      <td>4592727.645</td>\n",
       "      <td>02</td>\n",
       "      <td>2.024169</td>\n",
       "      <td>28.041577</td>\n",
       "      <td>(POLYGON ((-11764248.48137607 5345369.12535563...</td>\n",
       "    </tr>\n",
       "    <tr>\n",
       "      <th>3</th>\n",
       "      <td>99031200010343</td>\n",
       "      <td>Tonto National Forest</td>\n",
       "      <td>12</td>\n",
       "      <td>0312</td>\n",
       "      <td>2966417.901</td>\n",
       "      <td>03</td>\n",
       "      <td>1.169763</td>\n",
       "      <td>7.912869</td>\n",
       "      <td>(POLYGON ((-12384093.16045861 4089570.31855299...</td>\n",
       "    </tr>\n",
       "    <tr>\n",
       "      <th>4</th>\n",
       "      <td>99030200010343</td>\n",
       "      <td>Carson National Forest</td>\n",
       "      <td>02</td>\n",
       "      <td>0302</td>\n",
       "      <td>1593021.419</td>\n",
       "      <td>03</td>\n",
       "      <td>0.648673</td>\n",
       "      <td>11.525884</td>\n",
       "      <td>(POLYGON ((-11816179.94110374 4432908.19422580...</td>\n",
       "    </tr>\n",
       "  </tbody>\n",
       "</table>\n",
       "</div>"
      ],
      "text/plain": [
       "       ADMINFORES                          FORESTNAME FORESTNUMB FORESTORGC  \\\n",
       "0  99011400010343            Kootenai National Forest         14       0114   \n",
       "1  99030400010343            Coconino National Forest         04       0304   \n",
       "2  99020600010343  Medicine Bow-Routt National Forest         06       0206   \n",
       "3  99031200010343               Tonto National Forest         12       0312   \n",
       "4  99030200010343              Carson National Forest         02       0302   \n",
       "\n",
       "     GIS_ACRES REGION  SHAPE_AREA  SHAPE_LEN  \\\n",
       "0  2624578.394     01    1.290843  21.874705   \n",
       "1  2000935.403     03    0.798729   7.081378   \n",
       "2  4592727.645     02    2.024169  28.041577   \n",
       "3  2966417.901     03    1.169763   7.912869   \n",
       "4  1593021.419     03    0.648673  11.525884   \n",
       "\n",
       "                                            geometry  \n",
       "0  (POLYGON ((-12829337.62425734 6142169.69229397...  \n",
       "1  POLYGON ((-12441690.4004418 4243713.646472579,...  \n",
       "2  (POLYGON ((-11764248.48137607 5345369.12535563...  \n",
       "3  (POLYGON ((-12384093.16045861 4089570.31855299...  \n",
       "4  (POLYGON ((-11816179.94110374 4432908.19422580...  "
      ]
     },
     "execution_count": 4,
     "metadata": {},
     "output_type": "execute_result"
    }
   ],
   "source": [
    "print(len(fores))\n",
    "fores.head()"
   ]
  },
  {
   "cell_type": "code",
   "execution_count": 5,
   "metadata": {},
   "outputs": [
    {
     "name": "stdout",
     "output_type": "stream",
     "text": [
      "510\n"
     ]
    },
    {
     "data": {
      "text/html": [
       "<div>\n",
       "<table border=\"1\" class=\"dataframe\">\n",
       "  <thead>\n",
       "    <tr style=\"text-align: right;\">\n",
       "      <th></th>\n",
       "      <th>DATE_EDIT</th>\n",
       "      <th>GIS_LOC_ID</th>\n",
       "      <th>GIS_NOTES</th>\n",
       "      <th>GROUP_CODE</th>\n",
       "      <th>LANDS_CODE</th>\n",
       "      <th>META_MIDF</th>\n",
       "      <th>UNIT_CODE</th>\n",
       "      <th>UNIT_NAME</th>\n",
       "      <th>UNIT_TYPE</th>\n",
       "      <th>geometry</th>\n",
       "      <th>id</th>\n",
       "      <th>observed</th>\n",
       "    </tr>\n",
       "  </thead>\n",
       "  <tbody>\n",
       "    <tr>\n",
       "      <th>0</th>\n",
       "      <td></td>\n",
       "      <td></td>\n",
       "      <td></td>\n",
       "      <td></td>\n",
       "      <td></td>\n",
       "      <td></td>\n",
       "      <td>NACE</td>\n",
       "      <td>Marion Park</td>\n",
       "      <td>Park</td>\n",
       "      <td>POLYGON ((-8571399.866308754 4704907.728417463...</td>\n",
       "      <td>1602740</td>\n",
       "      <td></td>\n",
       "    </tr>\n",
       "    <tr>\n",
       "      <th>1</th>\n",
       "      <td>2006/01/04</td>\n",
       "      <td></td>\n",
       "      <td>Lands - http://landsnet.nps.gov/tractsnet/docu...</td>\n",
       "      <td></td>\n",
       "      <td></td>\n",
       "      <td></td>\n",
       "      <td>APCO</td>\n",
       "      <td>Appomattox Court House</td>\n",
       "      <td>National Historical Park</td>\n",
       "      <td>(POLYGON ((-8771068.516886771 4494046.73973837...</td>\n",
       "      <td>1604107</td>\n",
       "      <td></td>\n",
       "    </tr>\n",
       "    <tr>\n",
       "      <th>2</th>\n",
       "      <td>2007/07/10</td>\n",
       "      <td></td>\n",
       "      <td>Lands - http://landsnet.nps.gov/tractsnet/docu...</td>\n",
       "      <td></td>\n",
       "      <td></td>\n",
       "      <td></td>\n",
       "      <td>ORPI</td>\n",
       "      <td>Organ Pipe Cactus</td>\n",
       "      <td>National Monument</td>\n",
       "      <td>POLYGON ((-12588495.71991122 3758224.23773837,...</td>\n",
       "      <td>1604358</td>\n",
       "      <td></td>\n",
       "    </tr>\n",
       "    <tr>\n",
       "      <th>3</th>\n",
       "      <td></td>\n",
       "      <td></td>\n",
       "      <td>Shifted 0.06 miles</td>\n",
       "      <td></td>\n",
       "      <td></td>\n",
       "      <td></td>\n",
       "      <td>PINN</td>\n",
       "      <td>Pinnacles</td>\n",
       "      <td>National Monument</td>\n",
       "      <td>(POLYGON ((-13496337.57336841 4376047.48085925...</td>\n",
       "      <td>1604365</td>\n",
       "      <td></td>\n",
       "    </tr>\n",
       "    <tr>\n",
       "      <th>4</th>\n",
       "      <td></td>\n",
       "      <td></td>\n",
       "      <td>Good</td>\n",
       "      <td></td>\n",
       "      <td></td>\n",
       "      <td></td>\n",
       "      <td>TUIN</td>\n",
       "      <td>Tuskegee Institute</td>\n",
       "      <td>National Historical Site</td>\n",
       "      <td>(POLYGON ((-9540237.975449599 3819398.07320702...</td>\n",
       "      <td>1604368</td>\n",
       "      <td></td>\n",
       "    </tr>\n",
       "  </tbody>\n",
       "</table>\n",
       "</div>"
      ],
      "text/plain": [
       "    DATE_EDIT GIS_LOC_ID                                          GIS_NOTES  \\\n",
       "0                                                                             \n",
       "1  2006/01/04             Lands - http://landsnet.nps.gov/tractsnet/docu...   \n",
       "2  2007/07/10             Lands - http://landsnet.nps.gov/tractsnet/docu...   \n",
       "3                                                        Shifted 0.06 miles   \n",
       "4                                                                      Good   \n",
       "\n",
       "  GROUP_CODE LANDS_CODE META_MIDF UNIT_CODE               UNIT_NAME  \\\n",
       "0                                      NACE             Marion Park   \n",
       "1                                      APCO  Appomattox Court House   \n",
       "2                                      ORPI       Organ Pipe Cactus   \n",
       "3                                      PINN               Pinnacles   \n",
       "4                                      TUIN      Tuskegee Institute   \n",
       "\n",
       "                  UNIT_TYPE  \\\n",
       "0                      Park   \n",
       "1  National Historical Park   \n",
       "2         National Monument   \n",
       "3         National Monument   \n",
       "4  National Historical Site   \n",
       "\n",
       "                                            geometry       id observed  \n",
       "0  POLYGON ((-8571399.866308754 4704907.728417463...  1602740           \n",
       "1  (POLYGON ((-8771068.516886771 4494046.73973837...  1604107           \n",
       "2  POLYGON ((-12588495.71991122 3758224.23773837,...  1604358           \n",
       "3  (POLYGON ((-13496337.57336841 4376047.48085925...  1604365           \n",
       "4  (POLYGON ((-9540237.975449599 3819398.07320702...  1604368           "
      ]
     },
     "execution_count": 5,
     "metadata": {},
     "output_type": "execute_result"
    }
   ],
   "source": [
    "print(len(parks))\n",
    "parks.head()"
   ]
  },
  {
   "cell_type": "code",
   "execution_count": 6,
   "metadata": {},
   "outputs": [
    {
     "name": "stdout",
     "output_type": "stream",
     "text": [
      "204263715208.0 2679242793.67 14812001433.6\n"
     ]
    }
   ],
   "source": [
    "parks['AREA'] = parks.geometry.apply(lambda x: x.area)\n",
    "print(parks.AREA.max(), parks.AREA.mean(), parks.AREA.std())\n",
    "#parks = parks[parks.AREA < parks.AREA.max() - 1e9]\n",
    "parks = parks[parks.UNIT_TYPE == \"National Park\"]"
   ]
  },
  {
   "cell_type": "code",
   "execution_count": 7,
   "metadata": {
    "collapsed": true
   },
   "outputs": [],
   "source": [
    "color_forests = '#a6cee3'\n",
    "color_parks = '#1f78b4'\n",
    "color_wilderness = '#b2df8a'"
   ]
  },
  {
   "cell_type": "markdown",
   "metadata": {},
   "source": [
    "---\n"
   ]
  },
  {
   "cell_type": "code",
   "execution_count": 10,
   "metadata": {
    "collapsed": true
   },
   "outputs": [],
   "source": [
    "def min_distance(point, polys):\n",
    "    return polys.distance(point).min()"
   ]
  },
  {
   "cell_type": "code",
   "execution_count": 11,
   "metadata": {
    "collapsed": true
   },
   "outputs": [],
   "source": [
    "def parkdist(x):\n",
    "    return(min_distance(x, parks))\n",
    "def forestdist(x):\n",
    "    return(min_distance(x, fores))\n",
    "def wilderdist(x):\n",
    "    return(min_distance(x, wilde))\n",
    "\n",
    "cntys['min_park_dist'] = list(processpool.map(parkdist, cntys.geometry.centroid))\n"
   ]
  },
  {
   "cell_type": "code",
   "execution_count": 12,
   "metadata": {
    "collapsed": true
   },
   "outputs": [],
   "source": [
    "cntys['min_forest_dist'] =  list(processpool.map(forestdist, cntys.geometry.centroid))\n"
   ]
  },
  {
   "cell_type": "code",
   "execution_count": 13,
   "metadata": {
    "collapsed": true
   },
   "outputs": [],
   "source": [
    "cntys['min_wilder_dist'] = list(processpool.map(wilderdist, cntys.geometry.centroid))"
   ]
  },
  {
   "cell_type": "code",
   "execution_count": 14,
   "metadata": {
    "scrolled": false
   },
   "outputs": [
    {
     "name": "stderr",
     "output_type": "stream",
     "text": [
      "/Users/tony/miniconda3/lib/python3.5/site-packages/matplotlib/figure.py:397: UserWarning: matplotlib is currently using a non-GUI backend, so cannot show the figure\n",
      "  \"matplotlib is currently using a non-GUI backend, \"\n",
      "IOPub data rate exceeded.\n",
      "The notebook server will temporarily stop sending output\n",
      "to the client in order to avoid crashing it.\n",
      "To change this limit, set the config variable\n",
      "`--NotebookApp.iopub_data_rate_limit`.\n"
     ]
    }
   ],
   "source": [
    "extent = [-130, -65, 24, 50]\n",
    "## Set Up Plot\n",
    "fig, ax = plt.subplots(3, 1, figsize=(20, 20), subplot_kw={'projection': ccrs.Mercator().GOOGLE})\n",
    "\n",
    "cmap = plt.cm.Blues\n",
    "norm = matplotlib.colors.Normalize(vmin = 0, vmax = 1000000)\n",
    "\n",
    "\n",
    "\n",
    "for axidx, dist_type in enumerate(['min_park_dist', 'min_forest_dist', 'min_wilder_dist']):\n",
    "    ax[axidx].set_extent(extent, ccrs.Geodetic()) # North America, in Geodetic CRS\n",
    "    #ax[axidx].set_title(\"Distance from National Parklands\", loc='left', fontsize=22)\n",
    "\n",
    "    ## Add Gridlines\n",
    "    gl = ax[axidx].gridlines(crs=ccrs.PlateCarree(), draw_labels =True,\n",
    "                      linewidth=0.5, color='gray', alpha=0.5, linestyle='--')\n",
    "    gl.xlabels_top = False\n",
    "    gl.xformatter = LONGITUDE_FORMATTER\n",
    "    gl.yformatter = LATITUDE_FORMATTER\n",
    "\n",
    "    ## Add title\n",
    "    if (dist_type == 'min_park_dist'):\n",
    "        title = \"National Parks\"\n",
    "    elif dist_type == 'min_forest_dist':\n",
    "        title = \"National Forest Lands\"\n",
    "    elif dist_type == 'min_wilder_dist':\n",
    "        title = \"Wilderness Areas\"\n",
    "    ax[axidx].set_title(title, fontsize=15, loc='left', weight='light')\n",
    "    \n",
    "    ## Add Counties\n",
    "    for _, county in cntys.iterrows():\n",
    "        ax[axidx].add_geometries([county['geometry']],\n",
    "                          crs=ccrs.Mercator().GOOGLE, \n",
    "                          facecolor=cmap(norm(county[dist_type])), \n",
    "                          edgecolor='none')\n",
    "\n",
    "\n",
    "\n",
    "    ## Add States\n",
    "    ax[axidx].add_feature(feature.NaturalEarthFeature(category='cultural',\n",
    "                                                 name='admin_1_states_provinces_lakes_shp', \n",
    "                                                 scale='50m',\n",
    "                                                 facecolor='none', \n",
    "                                                edgecolor='black', \n",
    "                                              linewidth=0.8))\n",
    "    ax[axidx].add_feature(feature.BORDERS)\n",
    "\n",
    "    ## Add National Parks\n",
    "    for _, park in parks.iterrows():\n",
    "        ax[axidx].add_geometries([park['geometry']], crs=ccrs.Mercator().GOOGLE, facecolor=color_parks, edgecolor='none')\n",
    "\n",
    "\n",
    "\n",
    "\n",
    "    ## Add Forests\n",
    "    ax[axidx].add_geometries(fores.geometry, crs=ccrs.Mercator().GOOGLE, facecolor=color_forests, edgecolor='none')\n",
    "\n",
    "    ## Add Wildernesses\n",
    "    ax[axidx].add_geometries(wilde.geometry, crs=ccrs.Mercator().GOOGLE, facecolor=color_wilderness, edgecolor='none')\n",
    "\n",
    "    ## Add Legend\n",
    "    forest_patch = matplotlib.patches.Patch(color=color_forests, label = \"National Forests\")\n",
    "    park_patch = matplotlib.patches.Patch(color=color_parks, label = 'National Parks')\n",
    "    wilder_patch = matplotlib.patches.Patch(color=color_wilderness, label = \"Wilderness Areas\")\n",
    "    ax[axidx].legend(handles=[forest_patch, \n",
    "                       park_patch,\n",
    "                       wilder_patch], labels=['National Forests','National Parks','Wilderness Areas'], \n",
    "                    fontsize=10, \n",
    "                    loc='lower left')\n",
    "\n",
    "    ## Add Roads\n",
    "    ax[axidx].add_geometries(roads[(roads.RTTYP == 'I') | (roads.RTTYP == 'M')].geometry, crs=ccrs.Mercator().GOOGLE, facecolor='none', edgecolor='red', linewidth=0.2)\n",
    "\n",
    "sm = plt.cm.ScalarMappable(cmap=cmap, norm=norm)\n",
    "sm.set_array([])\n",
    "cb = fig.colorbar(sm, orientation='vertical', ax=ax.ravel().tolist(), aspect=50)\n",
    "cb.set_label(\"Distance (m)\")\n",
    "\n",
    "fig.savefig('westconus_distance.png', bbox_inches='tight', transparent=True, dpi = 1200)\n",
    "fig.show()"
   ]
  },
  {
   "cell_type": "code",
   "execution_count": null,
   "metadata": {
    "collapsed": true
   },
   "outputs": [],
   "source": []
  }
 ],
 "metadata": {
  "kernelspec": {
   "display_name": "Python 3",
   "language": "python",
   "name": "python3"
  },
  "language_info": {
   "codemirror_mode": {
    "name": "ipython",
    "version": 3
   },
   "file_extension": ".py",
   "mimetype": "text/x-python",
   "name": "python",
   "nbconvert_exporter": "python",
   "pygments_lexer": "ipython3",
   "version": "3.5.2"
  },
  "toc": {
   "colors": {
    "hover_highlight": "#DAA520",
    "navigate_num": "#000000",
    "navigate_text": "#333333",
    "running_highlight": "#FF0000",
    "selected_highlight": "#FFD700",
    "sidebar_border": "#EEEEEE",
    "wrapper_background": "#FFFFFF"
   },
   "moveMenuLeft": true,
   "nav_menu": {
    "height": "12px",
    "width": "252px"
   },
   "navigate_menu": true,
   "number_sections": true,
   "sideBar": true,
   "threshold": 4,
   "toc_cell": false,
   "toc_section_display": "block",
   "toc_window_display": false,
   "widenNotebook": false
  }
 },
 "nbformat": 4,
 "nbformat_minor": 2
}
